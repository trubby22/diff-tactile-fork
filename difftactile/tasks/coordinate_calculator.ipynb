{
 "cells": [
  {
   "cell_type": "code",
   "execution_count": 7,
   "metadata": {},
   "outputs": [],
   "source": [
    "import numpy as np"
   ]
  },
  {
   "cell_type": "markdown",
   "metadata": {},
   "source": [
    "all values are in mm (except for the output values - those are in cm)"
   ]
  },
  {
   "cell_type": "code",
   "execution_count": 8,
   "metadata": {},
   "outputs": [],
   "source": [
    "def arr_str(xs):\n",
    "    if len(xs.shape) == 1:\n",
    "        return \"[\" + \", \".join([f'{x:.2f}' for x in xs]) + \"]\"\n",
    "    else:\n",
    "        res = []\n",
    "        res.append('[')\n",
    "        for i in range(xs.shape[0]):\n",
    "            res.append(arr_str(xs[i]))\n",
    "            res.append(',\\n')\n",
    "        res.append(']')\n",
    "        return ''.join(res)"
   ]
  },
  {
   "cell_type": "code",
   "execution_count": 9,
   "metadata": {},
   "outputs": [
    {
     "name": "stdout",
     "output_type": "stream",
     "text": [
      "difftactile coordinates\n",
      "phantom centre of mass: [12.50, 11.50, 5.65]\n",
      "sensor centre: [12.50, 11.50, 9.90]\n",
      "sensor dome tip: [12.50, 11.50, 6.60]\n",
      "phantom centre, top surface (camera lookat): [12.50, 11.50, 6.30]\n",
      "camera_position: [14.01, 10.19, 9.30]\n",
      "phantom_selected_vertices:\n",
      "[[5.00, 5.00, 5.00],\n",
      "[20.00, 5.00, 5.00],\n",
      "[5.00, 18.00, 5.00],\n",
      "[5.00, 5.00, 6.30],\n",
      "]\n"
     ]
    }
   ],
   "source": [
    "phantom_dimensions = np.array([150, 130, 13], dtype=float)\n",
    "# phantom_closest_vertex = np.array([335, 65, 0], dtype=float)\n",
    "phantom_closest_vertex = np.array([50, 50, 50], dtype=float)\n",
    "phantom_scale = 150\n",
    "\n",
    "phantom_max_dim = np.max(phantom_dimensions)\n",
    "phantom_normalised_spans = phantom_dimensions / phantom_max_dim / 2\n",
    "phantom_scaled_spans = phantom_normalised_spans * phantom_scale\n",
    "\n",
    "phantom_difftactile_position = phantom_closest_vertex + phantom_scaled_spans\n",
    "\n",
    "phantom_centre_top = phantom_closest_vertex.copy()\n",
    "phantom_centre_top += np.array([\n",
    "    phantom_dimensions[0] / 2,\n",
    "    phantom_dimensions[1] / 2,\n",
    "    phantom_dimensions[2],\n",
    "], dtype=float)\n",
    "\n",
    "sensor_outer_radius = 33\n",
    "sensor_dome_tip = np.array([\n",
    "    phantom_centre_top[0],\n",
    "    phantom_centre_top[1],\n",
    "    phantom_centre_top[2] + 3.0,\n",
    "], dtype=float)\n",
    "sensor_sphere_centre = np.array([\n",
    "    sensor_dome_tip[0],\n",
    "    sensor_dome_tip[1],\n",
    "    sensor_dome_tip[2] + sensor_outer_radius,\n",
    "])\n",
    "\n",
    "phantom_diagonal = np.array([75, -65, 0], dtype=float)\n",
    "phantom_diagonal /= np.linalg.norm(phantom_diagonal)\n",
    "camera_distance = 20.0\n",
    "phantom_diagonal *= camera_distance\n",
    "camera_position = phantom_centre_top + phantom_diagonal\n",
    "camera_position = np.array([\n",
    "    camera_position[0],\n",
    "    camera_position[1],\n",
    "    camera_position[2] + 30.0,\n",
    "])\n",
    "\n",
    "phantom_selected_vertices = np.zeros(shape=(4, 3))\n",
    "phantom_selected_vertices[0] = phantom_closest_vertex\n",
    "for i in range(3):\n",
    "    vertex = np.copy(phantom_closest_vertex)\n",
    "    vertex[i] += phantom_dimensions[i]\n",
    "    phantom_selected_vertices[i+1] = vertex\n",
    "\n",
    "print('difftactile coordinates')\n",
    "print(f'phantom centre of mass: {arr_str(phantom_difftactile_position / 10)}')\n",
    "print(f'sensor centre: {arr_str(sensor_sphere_centre / 10)}')\n",
    "print(f'sensor dome tip: {arr_str(sensor_dome_tip / 10)}')\n",
    "print(f'phantom centre, top surface (camera lookat): {arr_str(phantom_centre_top / 10)}')\n",
    "print(f'camera_position: {arr_str(camera_position / 10)}')\n",
    "print(f'phantom_selected_vertices:\\n{arr_str(phantom_selected_vertices / 10)}')\n",
    "\n"
   ]
  },
  {
   "cell_type": "code",
   "execution_count": 10,
   "metadata": {},
   "outputs": [],
   "source": [
    "def global_to_local_velocity(global_velocity, global_transformation_matrix):\n",
    "    \"\"\"\n",
    "    Transforms a 3D velocity vector from the global coordinate frame\n",
    "    to the local coordinate frame.\n",
    "\n",
    "    Args:\n",
    "        global_velocity (np.ndarray): A 3-element numpy array representing\n",
    "                                       the velocity vector in the global frame (a, b, c).\n",
    "        global_transformation_matrix (np.ndarray): A 4x4 numpy array representing\n",
    "                                                   the global transformation matrix.\n",
    "\n",
    "    Returns:\n",
    "        np.ndarray: A 3-element numpy array representing the velocity vector\n",
    "                    in the local coordinate frame.\n",
    "    \"\"\"\n",
    "    if global_velocity.shape != (3,):\n",
    "        raise ValueError(\"global_velocity must be a 3-element numpy array.\")\n",
    "    if global_transformation_matrix.shape != (4, 4):\n",
    "        raise ValueError(\"global_transformation_matrix must be a 4x4 numpy array.\")\n",
    "\n",
    "    # Extract the 3x3 rotation matrix from the global transformation matrix\n",
    "    R_global_to_local = global_transformation_matrix[:3, :3]\n",
    "\n",
    "    # The inverse of a rotation matrix is its transpose\n",
    "    R_local_to_global = R_global_to_local.T\n",
    "\n",
    "    # Transform the global velocity vector to the local frame\n",
    "    local_velocity = np.dot(R_local_to_global, global_velocity)\n",
    "\n",
    "    return local_velocity"
   ]
  },
  {
   "cell_type": "code",
   "execution_count": 11,
   "metadata": {},
   "outputs": [
    {
     "name": "stdout",
     "output_type": "stream",
     "text": [
      "[ 0. 10.  0.]\n"
     ]
    }
   ],
   "source": [
    "trans_mat = np.array([\n",
    "    [1, 0, 0, 7.5],\n",
    "    [0, 0, 1, 6.5],\n",
    "    [0, -1, 0, 5.4],\n",
    "    [0, 0, 0, 1],\n",
    "], dtype=float)\n",
    "\n",
    "velocity_global = np.array([0, 0, -10], dtype=float)\n",
    "velocity_local = global_to_local_velocity(velocity_global, trans_mat)\n",
    "print(velocity_local)"
   ]
  }
 ],
 "metadata": {
  "kernelspec": {
   "display_name": "difftactile",
   "language": "python",
   "name": "python3"
  },
  "language_info": {
   "codemirror_mode": {
    "name": "ipython",
    "version": 3
   },
   "file_extension": ".py",
   "mimetype": "text/x-python",
   "name": "python",
   "nbconvert_exporter": "python",
   "pygments_lexer": "ipython3",
   "version": "3.9.16"
  }
 },
 "nbformat": 4,
 "nbformat_minor": 2
}
