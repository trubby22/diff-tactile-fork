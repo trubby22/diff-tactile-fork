{
 "cells": [
  {
   "cell_type": "code",
   "execution_count": 10,
   "metadata": {},
   "outputs": [],
   "source": [
    "import numpy as np"
   ]
  },
  {
   "cell_type": "markdown",
   "metadata": {},
   "source": [
    "all values are in mm (except for the output values - those are in cm)"
   ]
  },
  {
   "cell_type": "code",
   "execution_count": 11,
   "metadata": {},
   "outputs": [],
   "source": [
    "def arr_str(xs):\n",
    "    if len(xs.shape) == 1:\n",
    "        return \"[\" + \", \".join([f'{x:.6f}' for x in xs]) + \"]\"\n",
    "    else:\n",
    "        res = []\n",
    "        res.append('[')\n",
    "        for i in range(xs.shape[0]):\n",
    "            res.append(arr_str(xs[i]))\n",
    "            res.append(',\\n')\n",
    "        res.append(']')\n",
    "        return ''.join(res)"
   ]
  },
  {
   "cell_type": "code",
   "execution_count": 12,
   "metadata": {},
   "outputs": [
    {
     "name": "stdout",
     "output_type": "stream",
     "text": [
      "[90.  52.5 11. ]\n",
      "difftactile coordinates\n",
      "phantom centre of mass: [14.000000, 10.250000, 2.506250]\n",
      "sensor dome tip: [8.000000, 8.000000, 3.606250]\n",
      "keypoints: [[5.000000, 5.000000, 3.606250],\n",
      "[23.000000, 5.000000, 3.606250],\n",
      "[5.000000, 15.500000, 3.606250],\n",
      "]\n"
     ]
    }
   ],
   "source": [
    "phantom_dimensions = np.array([180, 105, 22], dtype=float)\n",
    "phantom_closest_vertex = np.array([50, 50, 14.0625], dtype=float)\n",
    "phantom_scale = 180\n",
    "\n",
    "phantom_max_dim = np.max(phantom_dimensions)\n",
    "phantom_normalised_spans = phantom_dimensions / phantom_max_dim / 2\n",
    "phantom_scaled_spans = phantom_normalised_spans * phantom_scale\n",
    "\n",
    "print(phantom_scaled_spans)\n",
    "\n",
    "phantom_difftactile_position = phantom_closest_vertex + phantom_scaled_spans\n",
    "\n",
    "sensor_dome_tip = phantom_closest_vertex.copy()\n",
    "sensor_dome_tip += np.array([\n",
    "    30,\n",
    "    30,\n",
    "    phantom_dimensions[2],\n",
    "], dtype=float)\n",
    "\n",
    "keypoints = np.vstack([phantom_closest_vertex for i in range(3)])\n",
    "keypoints[:, 2] += phantom_dimensions[2]\n",
    "keypoints[1, 0] += phantom_dimensions[0]\n",
    "keypoints[2, 1] += phantom_dimensions[1]\n",
    "\n",
    "print('difftactile coordinates')\n",
    "print(f'phantom centre of mass: {arr_str(phantom_difftactile_position / 10)}')\n",
    "print(f'sensor dome tip: {arr_str(sensor_dome_tip / 10)}')\n",
    "print(f'keypoints: {arr_str(keypoints / 10)}')\n",
    "\n"
   ]
  },
  {
   "cell_type": "code",
   "execution_count": 13,
   "metadata": {},
   "outputs": [],
   "source": [
    "def global_to_local_velocity(global_velocity, global_transformation_matrix):\n",
    "    \"\"\"\n",
    "    Transforms a 3D velocity vector from the global coordinate frame\n",
    "    to the local coordinate frame.\n",
    "\n",
    "    Args:\n",
    "        global_velocity (np.ndarray): A 3-element numpy array representing\n",
    "                                       the velocity vector in the global frame (a, b, c).\n",
    "        global_transformation_matrix (np.ndarray): A 4x4 numpy array representing\n",
    "                                                   the global transformation matrix.\n",
    "\n",
    "    Returns:\n",
    "        np.ndarray: A 3-element numpy array representing the velocity vector\n",
    "                    in the local coordinate frame.\n",
    "    \"\"\"\n",
    "    if global_velocity.shape != (3,):\n",
    "        raise ValueError(\"global_velocity must be a 3-element numpy array.\")\n",
    "    if global_transformation_matrix.shape != (4, 4):\n",
    "        raise ValueError(\"global_transformation_matrix must be a 4x4 numpy array.\")\n",
    "\n",
    "    # Extract the 3x3 rotation matrix from the global transformation matrix\n",
    "    R_global_to_local = global_transformation_matrix[:3, :3]\n",
    "\n",
    "    # The inverse of a rotation matrix is its transpose\n",
    "    R_local_to_global = R_global_to_local.T\n",
    "\n",
    "    # Transform the global velocity vector to the local frame\n",
    "    local_velocity = np.dot(R_local_to_global, global_velocity)\n",
    "\n",
    "    return local_velocity"
   ]
  },
  {
   "cell_type": "code",
   "execution_count": 14,
   "metadata": {},
   "outputs": [
    {
     "name": "stdout",
     "output_type": "stream",
     "text": [
      "[ 0. 10.  0.]\n"
     ]
    }
   ],
   "source": [
    "trans_mat = np.array([\n",
    "    [1, 0, 0, 7.5],\n",
    "    [0, 0, 1, 6.5],\n",
    "    [0, -1, 0, 5.4],\n",
    "    [0, 0, 0, 1],\n",
    "], dtype=float)\n",
    "\n",
    "velocity_global = np.array([0, 0, -10], dtype=float)\n",
    "velocity_local = global_to_local_velocity(velocity_global, trans_mat)\n",
    "print(velocity_local)"
   ]
  },
  {
   "cell_type": "markdown",
   "metadata": {},
   "source": [
    "speed calculator"
   ]
  },
  {
   "cell_type": "code",
   "execution_count": 15,
   "metadata": {},
   "outputs": [
    {
     "name": "stdout",
     "output_type": "stream",
     "text": [
      "4.0828765820486765\n"
     ]
    }
   ],
   "source": [
    "distance_per_simulation_sub_frame_at_speed_equal_to_1 = 4.898507118225098e-04 # mm\n",
    "sub_frames_per_frame = 50\n",
    "frames_per_second = 10\n",
    "real_world_experiment_duration_seconds = 150\n",
    "total_num_frames = real_world_experiment_duration_seconds * frames_per_second\n",
    "total_num_sub_frames = total_num_frames * sub_frames_per_frame\n",
    "sim_speed_translation = 1 / (distance_per_simulation_sub_frame_at_speed_equal_to_1 * sub_frames_per_frame * frames_per_second) # 1 mm / s\n",
    "\n",
    "print(sim_speed_translation)"
   ]
  },
  {
   "cell_type": "code",
   "execution_count": 16,
   "metadata": {},
   "outputs": [
    {
     "name": "stdout",
     "output_type": "stream",
     "text": [
      "1 0 | 1.5707963267948966 90.0\n",
      "0 1 | 0.0 0.0\n",
      "-1 0 | -1.5707963267948966 -90.0\n",
      "0 -1 | 3.141592653589793 180.0\n"
     ]
    }
   ],
   "source": [
    "for x, y in [(1, 0), (0, 1), (-1, 0), (0, -1)]:\n",
    "    a = np.arctan2(x, y)\n",
    "    b = np.degrees(a)\n",
    "    print(x, y, '|', a, b)"
   ]
  },
  {
   "cell_type": "code",
   "execution_count": 17,
   "metadata": {},
   "outputs": [
    {
     "name": "stdout",
     "output_type": "stream",
     "text": [
      "angle_rad_per_sub_step_at_speed_1: 8.552104e-07\n",
      "sim_speed_rotation: 81.63\n"
     ]
    }
   ],
   "source": [
    "angle_1 = 1.063207626735041\n",
    "angle_n = -2.4003944410946265\n",
    "d_angle = angle_1 - angle_n\n",
    "d_time_steps = 900\n",
    "rot_speed = 90\n",
    "sub_steps_per_step = 50\n",
    "angle_rad_per_sub_step_at_speed_1 = d_angle / (d_time_steps * sub_steps_per_step * rot_speed)\n",
    "print(f'angle_rad_per_sub_step_at_speed_1: {angle_rad_per_sub_step_at_speed_1:e}')\n",
    "\n",
    "sim_speed_rotation = np.deg2rad(2).item() / (angle_rad_per_sub_step_at_speed_1 * sub_steps_per_step * frames_per_second) # 2 deg / s\n",
    "print(f'sim_speed_rotation: {sim_speed_rotation:.2f}')"
   ]
  }
 ],
 "metadata": {
  "kernelspec": {
   "display_name": "difftactile",
   "language": "python",
   "name": "python3"
  },
  "language_info": {
   "codemirror_mode": {
    "name": "ipython",
    "version": 3
   },
   "file_extension": ".py",
   "mimetype": "text/x-python",
   "name": "python",
   "nbconvert_exporter": "python",
   "pygments_lexer": "ipython3",
   "version": "3.9.16"
  }
 },
 "nbformat": 4,
 "nbformat_minor": 2
}
