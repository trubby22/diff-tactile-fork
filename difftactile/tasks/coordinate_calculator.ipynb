{
 "cells": [
  {
   "cell_type": "code",
   "execution_count": 37,
   "metadata": {},
   "outputs": [],
   "source": [
    "import numpy as np\n",
    "import math"
   ]
  },
  {
   "cell_type": "markdown",
   "metadata": {},
   "source": [
    "all values are in mm (except for the output values - those are in cm)"
   ]
  },
  {
   "cell_type": "code",
   "execution_count": 38,
   "metadata": {},
   "outputs": [],
   "source": [
    "def arr_str(xs):\n",
    "    if len(xs.shape) == 1:\n",
    "        return \"[\" + \", \".join([f'{x:.6f}' for x in xs]) + \"]\"\n",
    "    else:\n",
    "        res = []\n",
    "        res.append('[')\n",
    "        for i in range(xs.shape[0]):\n",
    "            res.append(arr_str(xs[i]))\n",
    "            res.append(',\\n')\n",
    "        res.append(']')\n",
    "        return ''.join(res)"
   ]
  },
  {
   "cell_type": "code",
   "execution_count": 39,
   "metadata": {},
   "outputs": [
    {
     "name": "stdout",
     "output_type": "stream",
     "text": [
      "dx_0: 0.25\n",
      "min_z: 0.75\n",
      "phantom_scaled_spans: [4.  4.  1.1]\n",
      "difftactile coordinates\n",
      "phantom centre of mass: [9.750000, 9.750000, 1.850000]\n",
      "sensor dome tip: [9.750000, 9.750000, 2.950000]\n"
     ]
    }
   ],
   "source": [
    "space_scale = 16\n",
    "obj_scale = 8\n",
    "n_grid = 64\n",
    "dx_0 = space_scale / n_grid\n",
    "min_z = dx_0 * 3\n",
    "print(f'dx_0: {dx_0}')\n",
    "print(f'min_z: {min_z}')\n",
    "\n",
    "phantom_closest_vertex = np.array([min_z+5, min_z+5, min_z], dtype=float)\n",
    "\n",
    "phantom_h = 2.2\n",
    "phantom_r = 4\n",
    "phantom_d = phantom_r * 2\n",
    "phantom_dimensions = np.array([phantom_d, phantom_d, phantom_h], dtype=float)\n",
    "\n",
    "phantom_max_dim = np.max(phantom_dimensions)\n",
    "assert obj_scale == phantom_max_dim\n",
    "phantom_normalised_spans = phantom_dimensions / phantom_max_dim / 2\n",
    "phantom_scaled_spans = phantom_normalised_spans * obj_scale\n",
    "\n",
    "print(f'phantom_scaled_spans: {phantom_scaled_spans}')\n",
    "\n",
    "phantom_difftactile_position = phantom_closest_vertex + phantom_scaled_spans\n",
    "\n",
    "sensor_dome_tip = np.array([\n",
    "    phantom_difftactile_position[0],\n",
    "    phantom_difftactile_position[1],\n",
    "    phantom_difftactile_position[2] + phantom_dimensions[2] / 2,\n",
    "])\n",
    "\n",
    "print('difftactile coordinates')\n",
    "print(f'phantom centre of mass: {arr_str(phantom_difftactile_position)}')\n",
    "print(f'sensor dome tip: {arr_str(sensor_dome_tip)}')\n",
    "\n"
   ]
  },
  {
   "cell_type": "code",
   "execution_count": 40,
   "metadata": {},
   "outputs": [
    {
     "name": "stdout",
     "output_type": "stream",
     "text": [
      "fractional_tumour_volume: 7.308e-03\n",
      "num_tumour_particles: 174.14\n"
     ]
    }
   ],
   "source": [
    "tumour_cx, tumour_cy, tumour_cz, tumour_theta, tumour_h, tumour_r = (-0.706164183834844, 0.5947180564546317, 0.7677871920541303, 39.402098352330455, 5.097627267173769, 0.22463685189531085)\n",
    "tumour_volume = math.pi * tumour_r ** 2 * tumour_h\n",
    "phantom_volume = math.pi * phantom_r ** 2 * phantom_h\n",
    "fractional_tumour_volume = tumour_volume / phantom_volume\n",
    "num_total_particles = 23829\n",
    "num_tumour_particles = num_total_particles * fractional_tumour_volume\n",
    "print(f'fractional_tumour_volume: {fractional_tumour_volume:.3e}')\n",
    "print(f'num_tumour_particles: {num_tumour_particles:.2f}')"
   ]
  },
  {
   "cell_type": "code",
   "execution_count": 41,
   "metadata": {},
   "outputs": [],
   "source": [
    "def global_to_local_velocity(global_velocity, global_transformation_matrix):\n",
    "    \"\"\"\n",
    "    Transforms a 3D velocity vector from the global coordinate frame\n",
    "    to the local coordinate frame.\n",
    "\n",
    "    Args:\n",
    "        global_velocity (np.ndarray): A 3-element numpy array representing\n",
    "                                       the velocity vector in the global frame (a, b, c).\n",
    "        global_transformation_matrix (np.ndarray): A 4x4 numpy array representing\n",
    "                                                   the global transformation matrix.\n",
    "\n",
    "    Returns:\n",
    "        np.ndarray: A 3-element numpy array representing the velocity vector\n",
    "                    in the local coordinate frame.\n",
    "    \"\"\"\n",
    "    if global_velocity.shape != (3,):\n",
    "        raise ValueError(\"global_velocity must be a 3-element numpy array.\")\n",
    "    if global_transformation_matrix.shape != (4, 4):\n",
    "        raise ValueError(\"global_transformation_matrix must be a 4x4 numpy array.\")\n",
    "\n",
    "    # Extract the 3x3 rotation matrix from the global transformation matrix\n",
    "    R_global_to_local = global_transformation_matrix[:3, :3]\n",
    "\n",
    "    # The inverse of a rotation matrix is its transpose\n",
    "    R_local_to_global = R_global_to_local.T\n",
    "\n",
    "    # Transform the global velocity vector to the local frame\n",
    "    local_velocity = np.dot(R_local_to_global, global_velocity)\n",
    "\n",
    "    return local_velocity"
   ]
  },
  {
   "cell_type": "code",
   "execution_count": 42,
   "metadata": {},
   "outputs": [
    {
     "name": "stdout",
     "output_type": "stream",
     "text": [
      "[ 0. 10.  0.]\n"
     ]
    }
   ],
   "source": [
    "trans_mat = np.array([\n",
    "    [1, 0, 0, 7.5],\n",
    "    [0, 0, 1, 6.5],\n",
    "    [0, -1, 0, 5.4],\n",
    "    [0, 0, 0, 1],\n",
    "], dtype=float)\n",
    "\n",
    "velocity_global = np.array([0, 0, -10], dtype=float)\n",
    "velocity_local = global_to_local_velocity(velocity_global, trans_mat)\n",
    "print(velocity_local)"
   ]
  },
  {
   "cell_type": "markdown",
   "metadata": {},
   "source": [
    "speed calculator"
   ]
  },
  {
   "cell_type": "code",
   "execution_count": 43,
   "metadata": {},
   "outputs": [
    {
     "name": "stdout",
     "output_type": "stream",
     "text": [
      "4.0828765820486765\n"
     ]
    }
   ],
   "source": [
    "distance_per_simulation_sub_frame_at_speed_equal_to_1 = 4.898507118225098e-04 # mm\n",
    "sub_frames_per_frame = 50\n",
    "frames_per_second = 10\n",
    "real_world_experiment_duration_seconds = 150\n",
    "total_num_frames = real_world_experiment_duration_seconds * frames_per_second\n",
    "total_num_sub_frames = total_num_frames * sub_frames_per_frame\n",
    "sim_speed_translation = 1 / (distance_per_simulation_sub_frame_at_speed_equal_to_1 * sub_frames_per_frame * frames_per_second) # 1 mm / s\n",
    "\n",
    "print(sim_speed_translation)"
   ]
  },
  {
   "cell_type": "code",
   "execution_count": 44,
   "metadata": {},
   "outputs": [
    {
     "name": "stdout",
     "output_type": "stream",
     "text": [
      "1 0 | 1.5707963267948966 90.0\n",
      "0 1 | 0.0 0.0\n",
      "-1 0 | -1.5707963267948966 -90.0\n",
      "0 -1 | 3.141592653589793 180.0\n"
     ]
    }
   ],
   "source": [
    "for x, y in [(1, 0), (0, 1), (-1, 0), (0, -1)]:\n",
    "    a = np.arctan2(x, y)\n",
    "    b = np.degrees(a)\n",
    "    print(x, y, '|', a, b)"
   ]
  },
  {
   "cell_type": "code",
   "execution_count": 45,
   "metadata": {},
   "outputs": [
    {
     "name": "stdout",
     "output_type": "stream",
     "text": [
      "angle_rad_per_sub_step_at_speed_1: 8.552104e-07\n",
      "sim_speed_rotation: 81.63\n"
     ]
    }
   ],
   "source": [
    "angle_1 = 1.063207626735041\n",
    "angle_n = -2.4003944410946265\n",
    "d_angle = angle_1 - angle_n\n",
    "d_time_steps = 900\n",
    "rot_speed = 90\n",
    "sub_steps_per_step = 50\n",
    "angle_rad_per_sub_step_at_speed_1 = d_angle / (d_time_steps * sub_steps_per_step * rot_speed)\n",
    "print(f'angle_rad_per_sub_step_at_speed_1: {angle_rad_per_sub_step_at_speed_1:e}')\n",
    "\n",
    "sim_speed_rotation = np.deg2rad(2).item() / (angle_rad_per_sub_step_at_speed_1 * sub_steps_per_step * frames_per_second) # 2 deg / s\n",
    "print(f'sim_speed_rotation: {sim_speed_rotation:.2f}')"
   ]
  }
 ],
 "metadata": {
  "kernelspec": {
   "display_name": "difftactile",
   "language": "python",
   "name": "python3"
  },
  "language_info": {
   "codemirror_mode": {
    "name": "ipython",
    "version": 3
   },
   "file_extension": ".py",
   "mimetype": "text/x-python",
   "name": "python",
   "nbconvert_exporter": "python",
   "pygments_lexer": "ipython3",
   "version": "3.9.16"
  }
 },
 "nbformat": 4,
 "nbformat_minor": 2
}
