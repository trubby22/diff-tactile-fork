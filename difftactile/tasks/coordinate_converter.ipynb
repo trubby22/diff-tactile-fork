{
 "cells": [
  {
   "cell_type": "code",
   "execution_count": 9,
   "metadata": {},
   "outputs": [],
   "source": [
    "import numpy as np"
   ]
  },
  {
   "cell_type": "markdown",
   "metadata": {},
   "source": [
    "all values are in mm (except for the output values - those are in cm)"
   ]
  },
  {
   "cell_type": "code",
   "execution_count": 10,
   "metadata": {},
   "outputs": [],
   "source": [
    "def arr_str(xs):\n",
    "    if len(xs.shape) == 1:\n",
    "        return \"[\" + \", \".join([f'{x:.2f}' for x in xs]) + \"]\"\n",
    "    else:\n",
    "        res = []\n",
    "        res.append('[')\n",
    "        for i in range(xs.shape[0]):\n",
    "            res.append(arr_str(xs[i]))\n",
    "            res.append(',\\n')\n",
    "        res.append(']')\n",
    "        return ''.join(res)"
   ]
  },
  {
   "cell_type": "code",
   "execution_count": 11,
   "metadata": {},
   "outputs": [
    {
     "name": "stdout",
     "output_type": "stream",
     "text": [
      "difftactile coordinates\n",
      "phantom centre of mass: [7.50e+00, 6.50e+00, 6.50e-01]\n",
      "sensor centre: [7.50e+00, 6.50e+00, 4.90e+00]\n",
      "sensor dome tip: [7.50e+00, 6.50e+00, 1.60e+00]\n",
      "phantom centre, top surface (camera lookat): [7.50e+00, 6.50e+00, 1.30e+00]\n",
      "camera_position: [9.01e+00, 5.19e+00, 4.30e+00]\n",
      "phantom_selected_vertices:\n",
      "[[0.00e+00, 0.00e+00, 0.00e+00],\n",
      "[1.50e+01, 0.00e+00, 0.00e+00],\n",
      "[0.00e+00, 1.30e+01, 0.00e+00],\n",
      "[0.00e+00, 0.00e+00, 1.30e+00],\n",
      "]\n"
     ]
    }
   ],
   "source": [
    "phantom_dimensions = np.array([150, 130, 13], dtype=float)\n",
    "# phantom_closest_vertex = np.array([335, 65, 0], dtype=float)\n",
    "phantom_closest_vertex = np.array([0, 0, 0], dtype=float)\n",
    "phantom_scale = 150\n",
    "\n",
    "phantom_max_dim = np.max(phantom_dimensions)\n",
    "phantom_normalised_spans = phantom_dimensions / phantom_max_dim / 2\n",
    "phantom_scaled_spans = phantom_normalised_spans * phantom_scale\n",
    "\n",
    "phantom_difftactile_position = phantom_closest_vertex + phantom_scaled_spans\n",
    "\n",
    "phantom_centre_top = phantom_closest_vertex.copy()\n",
    "phantom_centre_top += np.array([\n",
    "    phantom_dimensions[0] / 2,\n",
    "    phantom_dimensions[1] / 2,\n",
    "    phantom_dimensions[2],\n",
    "], dtype=float)\n",
    "\n",
    "sensor_outer_radius = 33\n",
    "sensor_dome_tip = np.array([\n",
    "    phantom_centre_top[0],\n",
    "    phantom_centre_top[1],\n",
    "    phantom_centre_top[2] + 3.0,\n",
    "], dtype=float)\n",
    "sensor_sphere_centre = np.array([\n",
    "    sensor_dome_tip[0],\n",
    "    sensor_dome_tip[1],\n",
    "    sensor_dome_tip[2] + sensor_outer_radius,\n",
    "])\n",
    "\n",
    "phantom_diagonal = np.array([75, -65, 0], dtype=float)\n",
    "phantom_diagonal /= np.linalg.norm(phantom_diagonal)\n",
    "camera_distance = 20.0\n",
    "phantom_diagonal *= camera_distance\n",
    "camera_position = phantom_centre_top + phantom_diagonal\n",
    "camera_position = np.array([\n",
    "    camera_position[0],\n",
    "    camera_position[1],\n",
    "    camera_position[2] + 30.0,\n",
    "])\n",
    "\n",
    "phantom_selected_vertices = np.zeros(shape=(4, 3))\n",
    "phantom_selected_vertices[0] = phantom_closest_vertex\n",
    "for i in range(3):\n",
    "    vertex = np.copy(phantom_closest_vertex)\n",
    "    vertex[i] += phantom_dimensions[i]\n",
    "    phantom_selected_vertices[i+1] = vertex\n",
    "\n",
    "print('difftactile coordinates')\n",
    "print(f'phantom centre of mass: {arr_str(phantom_difftactile_position / 10)}')\n",
    "print(f'sensor centre: {arr_str(sensor_sphere_centre / 10)}')\n",
    "print(f'sensor dome tip: {arr_str(sensor_dome_tip / 10)}')\n",
    "print(f'phantom centre, top surface (camera lookat): {arr_str(phantom_centre_top / 10)}')\n",
    "print(f'camera_position: {arr_str(camera_position / 10)}')\n",
    "print(f'phantom_selected_vertices:\\n{arr_str(phantom_selected_vertices / 10)}')\n",
    "\n"
   ]
  }
 ],
 "metadata": {
  "kernelspec": {
   "display_name": "difftactile",
   "language": "python",
   "name": "python3"
  },
  "language_info": {
   "codemirror_mode": {
    "name": "ipython",
    "version": 3
   },
   "file_extension": ".py",
   "mimetype": "text/x-python",
   "name": "python",
   "nbconvert_exporter": "python",
   "pygments_lexer": "ipython3",
   "version": "3.9.16"
  }
 },
 "nbformat": 4,
 "nbformat_minor": 2
}
